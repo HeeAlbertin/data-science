{
 "cells": [
  {
   "cell_type": "markdown",
   "metadata": {},
   "source": [
    "# Aula 01"
   ]
  },
  {
   "cell_type": "markdown",
   "metadata": {},
   "source": [
    "## Probabilidade de 12 número se repetirem"
   ]
  },
  {
   "cell_type": "code",
   "execution_count": 4,
   "metadata": {},
   "outputs": [
    {
     "data": {
      "text/plain": [
       "4.194304e-38"
      ]
     },
     "execution_count": 4,
     "metadata": {},
     "output_type": "execute_result"
    }
   ],
   "source": [
    "1/(50**22)"
   ]
  },
  {
   "cell_type": "code",
   "execution_count": 9,
   "metadata": {},
   "outputs": [
    {
     "name": "stdout",
     "output_type": "stream",
     "text": [
      "Soma 3\n"
     ]
    },
    {
     "data": {
      "text/plain": [
       "-1"
      ]
     },
     "execution_count": 9,
     "metadata": {},
     "output_type": "execute_result"
    }
   ],
   "source": [
    "x = 1\n",
    "y = 2\n",
    "print('Soma', x + y)\n",
    "x - y"
   ]
  },
  {
   "cell_type": "markdown",
   "metadata": {},
   "source": [
    "## Estatística Descritiva"
   ]
  },
  {
   "cell_type": "markdown",
   "metadata": {},
   "source": [
    "### Média"
   ]
  },
  {
   "cell_type": "code",
   "execution_count": 14,
   "metadata": {},
   "outputs": [],
   "source": [
    "import numpy as np\n",
    "\n",
    "x = [11, 15, 26, 28, 31]\n"
   ]
  },
  {
   "cell_type": "code",
   "execution_count": 15,
   "metadata": {},
   "outputs": [
    {
     "data": {
      "text/plain": [
       "22.2"
      ]
     },
     "execution_count": 15,
     "metadata": {},
     "output_type": "execute_result"
    }
   ],
   "source": [
    "np.average(x)"
   ]
  },
  {
   "cell_type": "markdown",
   "metadata": {},
   "source": [
    "### Média Ponderada"
   ]
  },
  {
   "cell_type": "code",
   "execution_count": 18,
   "metadata": {},
   "outputs": [
    {
     "data": {
      "text/plain": [
       "24.0"
      ]
     },
     "execution_count": 18,
     "metadata": {},
     "output_type": "execute_result"
    }
   ],
   "source": [
    "x = [17, 18, 19, 20, 21, 22, 23, 200]\n",
    "f = [1, 11, 8, 7, 10, 2, 1, 1]\n",
    "\n",
    "# 200 passou ser OUTLIER (descrepante, grande)... deixando a média burra\n",
    "# soma de x . f dividido pela soma de f\n",
    "\n",
    "np.average(x, weights = f)"
   ]
  },
  {
   "cell_type": "markdown",
   "metadata": {},
   "source": [
    "### Moda"
   ]
  },
  {
   "cell_type": "code",
   "execution_count": 19,
   "metadata": {},
   "outputs": [],
   "source": [
    "# valor que mais se repete\n",
    "import pandas as pd"
   ]
  },
  {
   "cell_type": "code",
   "execution_count": 46,
   "metadata": {},
   "outputs": [
    {
     "name": "stdout",
     "output_type": "stream",
     "text": [
      "75    2\n",
      "71    1\n",
      "52    1\n",
      "60    1\n",
      "90    1\n",
      "dtype: int64\n"
     ]
    }
   ],
   "source": [
    "L = [52, 60, 71, 75, 75, 90]\n",
    "Lpd = pd.Series(L)\n",
    "x = Lpd.value_counts()\n",
    "print(x)"
   ]
  },
  {
   "cell_type": "code",
   "execution_count": 47,
   "metadata": {},
   "outputs": [
    {
     "data": {
      "text/plain": [
       "75    2\n",
       "dtype: int64"
      ]
     },
     "execution_count": 47,
     "metadata": {},
     "output_type": "execute_result"
    }
   ],
   "source": [
    "x[x==max(x)]"
   ]
  },
  {
   "cell_type": "code",
   "execution_count": 48,
   "metadata": {},
   "outputs": [
    {
     "data": {
      "text/plain": [
       "2"
      ]
     },
     "execution_count": 48,
     "metadata": {},
     "output_type": "execute_result"
    }
   ],
   "source": [
    "max(x)"
   ]
  },
  {
   "cell_type": "code",
   "execution_count": 49,
   "metadata": {},
   "outputs": [
    {
     "data": {
      "text/plain": [
       "75     True\n",
       "71    False\n",
       "52    False\n",
       "60    False\n",
       "90    False\n",
       "dtype: bool"
      ]
     },
     "execution_count": 49,
     "metadata": {},
     "output_type": "execute_result"
    }
   ],
   "source": [
    "x==max(x)"
   ]
  },
  {
   "cell_type": "markdown",
   "metadata": {},
   "source": [
    "### Bimodal"
   ]
  },
  {
   "cell_type": "code",
   "execution_count": 50,
   "metadata": {},
   "outputs": [
    {
     "name": "stdout",
     "output_type": "stream",
     "text": [
      "75    2\n",
      "90    2\n",
      "71    1\n",
      "52    1\n",
      "60    1\n",
      "dtype: int64\n"
     ]
    }
   ],
   "source": [
    "#-------------------Testando com 2 repetíveis\n",
    "L = [52, 60, 71, 75, 75, 90, 90]\n",
    "Lpd = pd.Series(L)\n",
    "x = Lpd.value_counts()\n",
    "print(x)"
   ]
  },
  {
   "cell_type": "markdown",
   "metadata": {},
   "source": [
    "### Amodal"
   ]
  },
  {
   "cell_type": "code",
   "execution_count": 51,
   "metadata": {},
   "outputs": [
    {
     "name": "stdout",
     "output_type": "stream",
     "text": [
      "71    1\n",
      "75    1\n",
      "52    1\n",
      "60    1\n",
      "90    1\n",
      "dtype: int64\n"
     ]
    }
   ],
   "source": [
    "#----------------- Quando nao há modal\n",
    "L = [52, 60, 71, 75, 90]\n",
    "Lpd = pd.Series(L)\n",
    "x = Lpd.value_counts()\n",
    "print(x)"
   ]
  },
  {
   "cell_type": "markdown",
   "metadata": {},
   "source": [
    "### Mediana"
   ]
  },
  {
   "cell_type": "code",
   "execution_count": 52,
   "metadata": {},
   "outputs": [
    {
     "name": "stdout",
     "output_type": "stream",
     "text": [
      "71    1\n",
      "75    1\n",
      "52    1\n",
      "60    1\n",
      "90    1\n",
      "dtype: int64\n"
     ]
    }
   ],
   "source": [
    "# número do meio de uma lista\n",
    "# se for par, pega-se os dois do meio, soma e divide por 2\n",
    "\n",
    "x = Lpd.value_counts()\n",
    "print(x)"
   ]
  },
  {
   "cell_type": "code",
   "execution_count": 53,
   "metadata": {},
   "outputs": [
    {
     "data": {
      "text/plain": [
       "71    1\n",
       "75    1\n",
       "52    1\n",
       "60    1\n",
       "90    1\n",
       "dtype: int64"
      ]
     },
     "execution_count": 53,
     "metadata": {},
     "output_type": "execute_result"
    }
   ],
   "source": [
    "x[x==max(x)]"
   ]
  },
  {
   "cell_type": "code",
   "execution_count": 54,
   "metadata": {},
   "outputs": [
    {
     "name": "stdout",
     "output_type": "stream",
     "text": [
      "Mediana =  71.0\n"
     ]
    }
   ],
   "source": [
    "print('Mediana = ', Lpd.median())"
   ]
  },
  {
   "cell_type": "markdown",
   "metadata": {},
   "source": [
    "#### Resumindo"
   ]
  },
  {
   "cell_type": "code",
   "execution_count": 56,
   "metadata": {},
   "outputs": [
    {
     "name": "stdout",
     "output_type": "stream",
     "text": [
      "Média =  70.5\n",
      "Moda =  75    2\n",
      "dtype: int64\n",
      "Mediana =  73.0\n"
     ]
    }
   ],
   "source": [
    "L = [52, 60, 71, 75, 75, 90]\n",
    "Lpd = pd.Series(L)\n",
    "x = Lpd.value_counts()\n",
    "\n",
    "print('Média = ', np.average(L))\n",
    "print('Moda = ', x[x==max(x)])\n",
    "print('Mediana = ', Lpd.median())"
   ]
  },
  {
   "cell_type": "markdown",
   "metadata": {},
   "source": [
    "### Separatrizes / Quartil"
   ]
  },
  {
   "cell_type": "code",
   "execution_count": 61,
   "metadata": {},
   "outputs": [
    {
     "data": {
      "text/plain": [
       "73.0"
      ]
     },
     "execution_count": 61,
     "metadata": {},
     "output_type": "execute_result"
    }
   ],
   "source": [
    "# 0%-----1Q(25%)-----50%-----3Q-----100%\n",
    "#                    2Q = Mediana\n",
    "\n",
    "np.percentile(L, 50)"
   ]
  },
  {
   "cell_type": "code",
   "execution_count": 62,
   "metadata": {},
   "outputs": [
    {
     "data": {
      "text/plain": [
       "array([62.75, 73.  , 75.  ])"
      ]
     },
     "execution_count": 62,
     "metadata": {},
     "output_type": "execute_result"
    }
   ],
   "source": [
    "# 25% dos valores estão até 62.75; 50% dos valores vão até 73; 75% dos valores vão até 75\n",
    "np.percentile(L, (25, 50, 75))"
   ]
  },
  {
   "cell_type": "markdown",
   "metadata": {},
   "source": [
    "### Variância"
   ]
  },
  {
   "cell_type": "code",
   "execution_count": 63,
   "metadata": {},
   "outputs": [],
   "source": [
    "# distância que a gente está da média; dispersão dos nossos dados ao redor da média\n",
    "# variância estraga a unidade"
   ]
  },
  {
   "cell_type": "markdown",
   "metadata": {},
   "source": [
    "### Desvio Padrão"
   ]
  },
  {
   "cell_type": "code",
   "execution_count": 64,
   "metadata": {},
   "outputs": [],
   "source": [
    "# quanto maior o desvio padrão, maior a dispersão dos nossos dados"
   ]
  },
  {
   "cell_type": "markdown",
   "metadata": {},
   "source": [
    "### Exercício - Coeficiente de Variação"
   ]
  },
  {
   "cell_type": "code",
   "execution_count": 71,
   "metadata": {},
   "outputs": [
    {
     "name": "stdout",
     "output_type": "stream",
     "text": [
      "Mínimo =  1.6\n",
      "Máximo =  1.88\n",
      "Média =  1.7560000000000002\n",
      "Desvio Padrão =  0.07088018058667737\n",
      "Variância =  0.005023999999999996\n",
      "Coeficiente de Variação =  4.03645675322764\n"
     ]
    }
   ],
   "source": [
    "altura = [1.72, 1.60, 1.74, 1.88, 1.82, 1.75, 1.82, 1.75, 1.75, 1.73]\n",
    "\n",
    "minimo = np.min(altura)\n",
    "print('Mínimo = ', minimo)\n",
    "\n",
    "minimo = np.max(altura)\n",
    "print('Máximo = ', minimo)\n",
    "\n",
    "media = np.average(altura)\n",
    "print('Média = ', media)\n",
    "\n",
    "desvioPadrao = np.std(altura)\n",
    "print('Desvio Padrão = ', desvioPadrao)\n",
    "\n",
    "variancia = desvioPadrao**2\n",
    "print('Variância = ', variancia)\n",
    "\n",
    "coeficienteVariacao = (desvioPadrao/media) * 100\n",
    "print('Coeficiente de Variação = ', coeficienteVariacao)"
   ]
  },
  {
   "cell_type": "code",
   "execution_count": null,
   "metadata": {},
   "outputs": [],
   "source": []
  }
 ],
 "metadata": {
  "kernelspec": {
   "display_name": "Python 3",
   "language": "python",
   "name": "python3"
  },
  "language_info": {
   "codemirror_mode": {
    "name": "ipython",
    "version": 3
   },
   "file_extension": ".py",
   "mimetype": "text/x-python",
   "name": "python",
   "nbconvert_exporter": "python",
   "pygments_lexer": "ipython3",
   "version": "3.7.4"
  }
 },
 "nbformat": 4,
 "nbformat_minor": 2
}
